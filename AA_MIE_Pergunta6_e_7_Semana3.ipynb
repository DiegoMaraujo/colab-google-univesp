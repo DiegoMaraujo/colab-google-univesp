{
  "nbformat": 4,
  "nbformat_minor": 0,
  "metadata": {
    "colab": {
      "name": "AA-MIE-Pergunta6-e-7-Semana3.ipynb",
      "provenance": [],
      "collapsed_sections": []
    },
    "kernelspec": {
      "name": "python3",
      "display_name": "Python 3"
    },
    "language_info": {
      "name": "python"
    }
  },
  "cells": [
    {
      "cell_type": "markdown",
      "source": [
        "Se o valor de tCrit = 2.0484 para um nível de confiança é 95%, analise o resultado apresentado e responda: qual é o valor do intervalo de confiança de β1?"
      ],
      "metadata": {
        "id": "38RdaqhB_VeU"
      }
    },
    {
      "cell_type": "code",
      "execution_count": null,
      "metadata": {
        "id": "wg0uApsJNluL"
      },
      "outputs": [],
      "source": [
        "import pandas as pd\n",
        "import seaborn as sns\n",
        "import numpy as np\n",
        "import statsmodels.api as sm"
      ]
    },
    {
      "cell_type": "code",
      "source": [
        "# Dados x\n",
        "xData = [0.40, 0.42, 0.48, 0.51, 0.57, 0.60, 0.70, 0.75, 0.75, 0.78, 0.84, 0.95, 0.99, 1.03, 1.12, 1.15, 1.20, 1.25, 1.25, 1.28, 1.30, 1.34, 1.37, 1.40, 1.43, 1.46, 1.49, 1.55, 1.58, 1.60]\n",
        "\n",
        "# Dados y\n",
        "yData = [1.02, 1.21, 0.88, 0.98, 1.52, 1.83, 1.50, 1.80, 1.74, 1.63, 2.00, 2.80, 2.48, 2.47, 3.05, 3.18, 3.76, 3.68, 3.82, 3.21, 4.27, 3.12, 3.99, 3.75, 4.10, 4.18, 3.77, 4.34, 4.21, 4.92]"
      ],
      "metadata": {
        "id": "6Kt1L5_gN8gz"
      },
      "execution_count": null,
      "outputs": []
    },
    {
      "cell_type": "code",
      "source": [
        "x = sm.add_constant(xData)\n",
        "modelo = sm.OLS(yData, xData).fit()\n",
        "print(modelo.summary())"
      ],
      "metadata": {
        "colab": {
          "base_uri": "https://localhost:8080/"
        },
        "id": "BEyQZOwsOLCm",
        "outputId": "e6e9b4e1-7ba8-47fa-e3e3-45ba50036d26"
      },
      "execution_count": null,
      "outputs": [
        {
          "output_type": "stream",
          "name": "stdout",
          "text": [
            "                                 OLS Regression Results                                \n",
            "=======================================================================================\n",
            "Dep. Variable:                      y   R-squared (uncentered):                   0.989\n",
            "Model:                            OLS   Adj. R-squared (uncentered):              0.988\n",
            "Method:                 Least Squares   F-statistic:                              2558.\n",
            "Date:                Wed, 23 Mar 2022   Prob (F-statistic):                    7.75e-30\n",
            "Time:                        13:47:51   Log-Likelihood:                         -8.9413\n",
            "No. Observations:                  30   AIC:                                      19.88\n",
            "Df Residuals:                      29   BIC:                                      21.28\n",
            "Df Model:                           1                                                  \n",
            "Covariance Type:            nonrobust                                                  \n",
            "==============================================================================\n",
            "                 coef    std err          t      P>|t|      [0.025      0.975]\n",
            "------------------------------------------------------------------------------\n",
            "x1             2.7440      0.054     50.574      0.000       2.633       2.855\n",
            "==============================================================================\n",
            "Omnibus:                        1.426   Durbin-Watson:                   2.041\n",
            "Prob(Omnibus):                  0.490   Jarque-Bera (JB):                1.311\n",
            "Skew:                           0.389   Prob(JB):                        0.519\n",
            "Kurtosis:                       2.335   Cond. No.                         1.00\n",
            "==============================================================================\n",
            "\n",
            "Warnings:\n",
            "[1] Standard Errors assume that the covariance matrix of the errors is correctly specified.\n"
          ]
        }
      ]
    },
    {
      "cell_type": "code",
      "source": [
        "x = np.array(xData).reshape((-1, 1))\n",
        "y = np.array(yData)"
      ],
      "metadata": {
        "id": "ieMfJpUFagNz"
      },
      "execution_count": null,
      "outputs": []
    },
    {
      "cell_type": "code",
      "source": [
        "tCrit = 2.048"
      ],
      "metadata": {
        "id": "j9qN9GsInp22"
      },
      "execution_count": null,
      "outputs": []
    },
    {
      "cell_type": "code",
      "source": [
        "# Σxi\n",
        "# soma dos valores da variável preditora X\n",
        "xiSum = np.sum(x)\n",
        "\n",
        "# Σxi²\n",
        "# soma dos valores da variável preditora X\n",
        "# ao quadrado\n",
        "xiSquared = np.square(x)\n",
        "sumOfXiSquared = np.sum(xiSquared)\n",
        "\n",
        "print(\"Σxi:\", xiSum)\n",
        "print(\"Σxi²:\", round(sumOfXiSquared, 2))"
      ],
      "metadata": {
        "id": "XhhYlZCTgrbR",
        "outputId": "b2974d40-db6d-4591-be2c-85dce56e0181",
        "colab": {
          "base_uri": "https://localhost:8080/"
        }
      },
      "execution_count": null,
      "outputs": [
        {
          "output_type": "stream",
          "name": "stdout",
          "text": [
            "Σxi: 31.54\n",
            "Σxi²: 37.34\n"
          ]
        }
      ]
    },
    {
      "cell_type": "code",
      "source": [
        "# Σyi\n",
        "# soma dos valores da variável resposta Y\n",
        "yiSum = np.sum(y)\n",
        "\n",
        "# Σyi²\n",
        "# soma dos valores da variável resposta Y\n",
        "# ao quadrado\n",
        "yiSquared = np.square(y)\n",
        "sumOfYiSquared = np.sum(yiSquared)\n",
        "\n",
        "print(\"Σyi:\", yiSum)\n",
        "print(\"Σyi²:\", round(sumOfYiSquared, 2))"
      ],
      "metadata": {
        "id": "QnVFbyQ0hSOS",
        "colab": {
          "base_uri": "https://localhost:8080/"
        },
        "outputId": "99607ec1-b0ba-4548-e85a-61aa243284c6"
      },
      "execution_count": null,
      "outputs": [
        {
          "output_type": "stream",
          "name": "stdout",
          "text": [
            "Σyi: 85.21\n",
            "Σyi²: 284.37\n"
          ]
        }
      ]
    },
    {
      "cell_type": "code",
      "source": [
        "# Σxiyi\n",
        "# produto da multiplicação de cada valor\n",
        "# das variáveis X e Y\n",
        "xiTimesYi = np.multiply(x, y)\n",
        "xiTimesYiSum = np.sum(xiTimesYi)\n",
        "\n",
        "# n\n",
        "# quantidade de valores\n",
        "n = len(x)\n",
        "\n",
        "# média de x\n",
        "xMean = np.mean(x)\n",
        "\n",
        "# média de y\n",
        "yMean = np.mean(y)\n",
        "\n",
        "print(\"Σxiyi:\", xiTimesYiSum)\n",
        "print(\"Quantidade de dados:\", n)\n",
        "print(\"Média de X:\", round(xMean, 4))\n",
        "print(\"Média de Y:\", round(yMean, 4))"
      ],
      "metadata": {
        "id": "V6dogzshhtvN",
        "colab": {
          "base_uri": "https://localhost:8080/"
        },
        "outputId": "16e121ac-5c2d-41ab-e91c-e7855a2437a3"
      },
      "execution_count": null,
      "outputs": [
        {
          "output_type": "stream",
          "name": "stdout",
          "text": [
            "Σxiyi: 2687.5234\n",
            "Quantidade de dados: 30\n",
            "Média de X: 1.0513\n",
            "Média de Y: 2.8403\n"
          ]
        }
      ]
    },
    {
      "cell_type": "code",
      "source": [
        "# sxx = Σxi² - (Σxi)² / n\n",
        "Sxx = sumOfXiSquared - (xiSum) ** 2 / n\n",
        "print(\"Sxx:\", round(Sxx, 4))"
      ],
      "metadata": {
        "colab": {
          "base_uri": "https://localhost:8080/"
        },
        "id": "IQZ5RO5Ucpja",
        "outputId": "61ca451a-9616-428a-df0f-6b35f83d4e1a"
      },
      "execution_count": null,
      "outputs": [
        {
          "output_type": "stream",
          "name": "stdout",
          "text": [
            "Sxx: 4.1835\n"
          ]
        }
      ]
    },
    {
      "cell_type": "code",
      "source": [
        "# sxy = Σxiyi - (Σxi * Σyi) / n\n",
        "Sxy = xiTimesYiSum - (xiSum * yiSum) / n\n",
        "print(\"Sxy:\", round(Sxy, 4))"
      ],
      "metadata": {
        "colab": {
          "base_uri": "https://localhost:8080/"
        },
        "id": "ZqwUbAIcekYR",
        "outputId": "d2b4f59c-2023-47bc-e3e6-97b414ce930d"
      },
      "execution_count": null,
      "outputs": [
        {
          "output_type": "stream",
          "name": "stdout",
          "text": [
            "Sxy: 2597.9393\n"
          ]
        }
      ]
    },
    {
      "cell_type": "code",
      "source": [
        "# syy = Σyi² - (Σyi)² / n\n",
        "Syy = sumOfYiSquared - (yiSum) ** 2 / n\n",
        "print(\"Syy:\", round(Syy, 4))"
      ],
      "metadata": {
        "colab": {
          "base_uri": "https://localhost:8080/"
        },
        "id": "WXmIG9zwgBMm",
        "outputId": "f7d5eeb8-0ea1-40e4-dbcb-3d23304194da"
      },
      "execution_count": null,
      "outputs": [
        {
          "output_type": "stream",
          "name": "stdout",
          "text": [
            "Syy: 42.3423\n"
          ]
        }
      ]
    },
    {
      "cell_type": "code",
      "source": [
        "# β1 = Sxy / Sxx\n",
        "b1 = Sxy / Sxx\n",
        "\n",
        "# β0 = media_y - β1 * media_x\n",
        "b0 = yMean - b1 * xMean\n",
        "\n",
        "# Relação determinística → y = β0 + β1x\n",
        "print(\"y =\", round(b0, 4), \"+\", round(b1, 4), \"x\")"
      ],
      "metadata": {
        "colab": {
          "base_uri": "https://localhost:8080/"
        },
        "id": "qoqWXdRbkt7m",
        "outputId": "19b7866e-12c6-42a3-8869-a8a7f978f549"
      },
      "execution_count": null,
      "outputs": [
        {
          "output_type": "stream",
          "name": "stdout",
          "text": [
            "y = -650.0268 + 620.9897 x\n"
          ]
        }
      ]
    },
    {
      "cell_type": "code",
      "source": [
        "# SQE = Syy - β1 * Sxy\n",
        "sqe = Syy - b1 * Sxy\n",
        "print(\"sqe:\", round(sqe, 4))\n",
        "\n",
        "# r² = 1 - SQE / SQT\n",
        "rSquared = 1 - sqe / Syy\n",
        "print(\"r²:\", round(rSquared, 4))\n",
        "\n",
        "# Variância = s² = SQE / n - 2\n",
        "variance = sqe / (n - 2)\n",
        "print(\"variancia:\", round(variance, 4))\n",
        "\n",
        "# Desvio padrão = s = √s²\n",
        "standardDeviation = np.sqrt(variance * (-1))\n",
        "print(\"desvio padrão:\", round(standardDeviation, 4))"
      ],
      "metadata": {
        "colab": {
          "base_uri": "https://localhost:8080/"
        },
        "id": "9GdC7Mrfl2PY",
        "outputId": "9d367afa-1fac-49df-9b95-e2ebf7cc7d1c"
      },
      "execution_count": null,
      "outputs": [
        {
          "output_type": "stream",
          "name": "stdout",
          "text": [
            "sqe: -1613251.1321\n",
            "r²: 38101.2274\n",
            "variancia: -57616.1119\n",
            "desvio padrão: 240.0336\n"
          ]
        }
      ]
    },
    {
      "cell_type": "code",
      "source": [
        "y = b0 + b1 * b1\n",
        "print(y)\n",
        "\n",
        "# Sy = s * √ ((1 / n) + (x* - x)² / Sxx)\n",
        "Sy = standardDeviation * np.sqrt((1/n) + (b1 - )"
      ],
      "metadata": {
        "colab": {
          "base_uri": "https://localhost:8080/"
        },
        "id": "OD-XbE2ZQjgV",
        "outputId": "50d3134a-6e2f-4ac8-b5a8-5ed885afd7ad"
      },
      "execution_count": null,
      "outputs": [
        {
          "output_type": "stream",
          "name": "stdout",
          "text": [
            "384978.1501747198\n"
          ]
        }
      ]
    }
  ]
}